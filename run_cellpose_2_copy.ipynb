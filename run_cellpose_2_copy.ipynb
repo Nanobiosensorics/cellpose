{
 "cells": [
  {
   "cell_type": "code",
   "execution_count": 1,
   "metadata": {
    "colab": {
     "base_uri": "https://localhost:8080/"
    },
    "id": "Tt8hgC7rniP8",
    "outputId": "677fa3d0-952f-4490-f5bb-4ef1ad0b0469"
   },
   "outputs": [],
   "source": [
    "# !nvcc --version\n",
    "# !nvidia-smi\n",
    "\n",
    "import os, shutil\n",
    "import numpy as np\n",
    "import matplotlib.pyplot as plt\n",
    "from cellpose import core, utils, io, models, metrics\n",
    "from data_loader import CellDataset, split_dataset\n",
    "from cellpose import models\n",
    "\n",
    "use_GPU = core.use_gpu()\n",
    "yn = ['NO', 'YES']\n",
    "print(f'>>> GPU activated? {yn[use_GPU]}')"
   ]
  },
  {
   "cell_type": "code",
   "execution_count": null,
   "metadata": {
    "cellView": "form",
    "colab": {
     "base_uri": "https://localhost:8080/"
    },
    "id": "XQI4aUxCjz3n",
    "outputId": "804d0459-b120-4298-9b4c-87a9ca26401c"
   },
   "outputs": [
    {
     "name": "stdout",
     "output_type": "stream",
     "text": [
      "Default advanced parameters enabled\n"
     ]
    }
   ],
   "source": [
    "initial_model = \"cyto\" #@param ['cyto','nuclei','tissuenet','livecell','cyto2','CP','CPx','TN1','TN2','TN3','LC1','LC2','LC3','LC4','scratch']\n",
    "model_dir = \"./\"\n",
    "model_name = \"single_cell_params_test.pt\" #@param {type:\"string\"}\n",
    "n_epochs =  100#@param {type:\"number\"}\n",
    "learning_rate = 0.01 \n",
    "weight_decay = 0.0001\n",
    "batch_size = 8\n",
    "chan = 0\n",
    "chan2 = 0"
   ]
  },
  {
   "cell_type": "code",
   "execution_count": 3,
   "metadata": {},
   "outputs": [],
   "source": [
    "data_paths = []\n",
    "with open(\"./file_paths.txt\", \"r\") as fp:\n",
    "    data_paths = fp.read().strip().split('\\n')"
   ]
  },
  {
   "cell_type": "code",
   "execution_count": 4,
   "metadata": {},
   "outputs": [],
   "source": [
    "train_paths, test_paths = split_dataset(data_paths, 0.2)\n",
    "train_ds = CellDataset(paths=train_paths, generate_flows=True)\n",
    "test_ds = CellDataset(paths=test_paths, generate_flows=True)"
   ]
  },
  {
   "cell_type": "code",
   "execution_count": 5,
   "metadata": {
    "colab": {
     "base_uri": "https://localhost:8080/"
    },
    "id": "XcYskYudMajM",
    "outputId": "ed4dce67-190e-4d52-9a70-bcbc76be4b65"
   },
   "outputs": [
    {
     "name": "stdout",
     "output_type": "stream",
     "text": [
      "2023-08-12 21:45:36,099 [INFO] WRITING LOG OUTPUT TO /home/balint/.cellpose/run.log\n",
      "2023-08-12 21:45:36,099 [INFO] \n",
      "cellpose version: \t2.2 \n",
      "platform:       \tlinux \n",
      "python version: \t3.8.15 \n",
      "torch version:  \t2.0.0+cu117\n",
      "2023-08-12 21:45:36,101 [INFO] ** TORCH CUDA version installed and working. **\n",
      "2023-08-12 21:45:36,102 [INFO] >>>> using GPU\n",
      "2023-08-12 21:48:50,276 [INFO] >>>> median diameter set to = 45\n",
      "2023-08-12 21:48:50,277 [INFO] >>>> mean of training label mask diameters (saved to model) 65.097\n",
      "2023-08-12 21:48:50,291 [INFO] >>>> training network with 2 channel input <<<<\n",
      "2023-08-12 21:48:50,295 [INFO] >>>> LR: 0.00100, batch_size: 8, weight_decay: 0.00010\n",
      "2023-08-12 21:48:50,296 [INFO] >>>> ntrain = 195, ntest = 65\n",
      "2023-08-12 21:48:50,298 [INFO] >>>> nimg_per_epoch = 195\n",
      "2023-08-12 21:48:50,306 [INFO] Epoch 0/1::   0%|          | 0/25 [00:00<?, ?it/s]\n",
      "2023-08-12 21:49:01,418 [INFO] Epoch 0/1::   4%|4         | 1/25 [00:11<04:26, 11.11s/it]\n",
      "2023-08-12 21:49:11,455 [INFO] Epoch 0/1::   8%|8         | 2/25 [00:21<04:01, 10.48s/it]\n",
      "2023-08-12 21:49:20,632 [INFO] Epoch 0/1::  12%|#2        | 3/25 [00:30<03:37,  9.88s/it]\n",
      "2023-08-12 21:49:29,529 [INFO] Epoch 0/1::  16%|#6        | 4/25 [00:39<03:19,  9.49s/it]\n",
      "2023-08-12 21:49:39,097 [INFO] Epoch 0/1::  20%|##        | 5/25 [00:48<03:10,  9.52s/it]\n",
      "2023-08-12 21:49:47,515 [INFO] Epoch 0/1::  24%|##4       | 6/25 [00:57<02:53,  9.15s/it]\n",
      "2023-08-12 21:49:56,124 [INFO] Epoch 0/1::  28%|##8       | 7/25 [01:05<02:41,  8.97s/it]\n",
      "2023-08-12 21:50:05,672 [INFO] Epoch 0/1::  32%|###2      | 8/25 [01:15<02:35,  9.15s/it]\n",
      "2023-08-12 21:50:14,015 [INFO] Epoch 0/1::  36%|###6      | 9/25 [01:23<02:22,  8.90s/it]\n",
      "2023-08-12 21:50:24,548 [INFO] Epoch 0/1::  40%|####      | 10/25 [01:34<02:21,  9.40s/it]\n",
      "2023-08-12 21:50:31,970 [INFO] Epoch 0/1::  44%|####4     | 11/25 [01:41<02:03,  8.80s/it]\n",
      "2023-08-12 21:50:42,052 [INFO] Epoch 0/1::  48%|####8     | 12/25 [01:51<01:59,  9.19s/it]\n",
      "2023-08-12 21:50:52,895 [INFO] Epoch 0/1::  52%|#####2    | 13/25 [02:02<01:56,  9.69s/it]\n",
      "2023-08-12 21:51:01,554 [INFO] Epoch 0/1::  56%|#####6    | 14/25 [02:11<01:43,  9.38s/it]\n",
      "2023-08-12 21:51:10,833 [INFO] Epoch 0/1::  60%|######    | 15/25 [02:20<01:33,  9.35s/it]\n",
      "2023-08-12 21:51:20,382 [INFO] Epoch 0/1::  64%|######4   | 16/25 [02:30<01:24,  9.41s/it]\n",
      "2023-08-12 21:51:29,624 [INFO] Epoch 0/1::  68%|######8   | 17/25 [02:39<01:14,  9.36s/it]\n",
      "2023-08-12 21:51:39,335 [INFO] Epoch 0/1::  72%|#######2  | 18/25 [02:49<01:06,  9.46s/it]\n",
      "2023-08-12 21:51:49,674 [INFO] Epoch 0/1::  76%|#######6  | 19/25 [02:59<00:58,  9.73s/it]\n",
      "2023-08-12 21:51:57,926 [INFO] Epoch 0/1::  80%|########  | 20/25 [03:07<00:46,  9.28s/it]\n",
      "2023-08-12 21:52:06,785 [INFO] Epoch 0/1::  84%|########4 | 21/25 [03:16<00:36,  9.16s/it]\n",
      "2023-08-12 21:52:15,997 [INFO] Epoch 0/1::  88%|########8 | 22/25 [03:25<00:27,  9.17s/it]\n",
      "2023-08-12 21:52:25,263 [INFO] Epoch 0/1::  92%|#########2| 23/25 [03:34<00:18,  9.20s/it]\n",
      "2023-08-12 21:52:35,425 [INFO] Epoch 0/1::  96%|#########6| 24/25 [03:45<00:09,  9.49s/it]\n",
      "2023-08-12 21:52:38,596 [INFO] Epoch 0/1:: 100%|##########| 25/25 [03:48<00:00,  7.59s/it]\n",
      "2023-08-12 21:52:38,600 [INFO] Epoch 0/1:: 100%|##########| 25/25 [03:48<00:00,  9.13s/it]\n",
      "2023-08-12 21:52:38,602 [INFO] Epoch 0/1::   0%|          | 0/9 [00:00<?, ?it/s]\n",
      "2023-08-12 21:52:48,959 [INFO] Epoch 0/1::  11%|#1        | 1/9 [00:10<01:22, 10.36s/it]\n",
      "2023-08-12 21:52:59,014 [INFO] Epoch 0/1::  22%|##2       | 2/9 [00:20<01:11, 10.18s/it]\n",
      "2023-08-12 21:53:09,977 [INFO] Epoch 0/1::  33%|###3      | 3/9 [00:31<01:03, 10.54s/it]\n",
      "2023-08-12 21:53:19,769 [INFO] Epoch 0/1::  44%|####4     | 4/9 [00:41<00:51, 10.24s/it]\n",
      "2023-08-12 21:53:30,767 [INFO] Epoch 0/1::  56%|#####5    | 5/9 [00:52<00:42, 10.52s/it]\n",
      "2023-08-12 21:53:40,141 [INFO] Epoch 0/1::  67%|######6   | 6/9 [01:01<00:30, 10.13s/it]\n",
      "2023-08-12 21:53:49,856 [INFO] Epoch 0/1::  78%|#######7  | 7/9 [01:11<00:19,  9.99s/it]\n",
      "2023-08-12 21:54:00,752 [INFO] Epoch 0/1::  89%|########8 | 8/9 [01:22<00:10, 10.28s/it]\n",
      "2023-08-12 21:54:02,244 [INFO] Epoch 0/1:: 100%|##########| 9/9 [01:23<00:00,  7.53s/it]\n",
      "2023-08-12 21:54:02,255 [INFO] Epoch 0/1:: 100%|##########| 9/9 [01:23<00:00,  9.29s/it]\n",
      "2023-08-12 21:54:02,256 [INFO] Epoch 0, Time 312.0s, Loss 0.8324, Loss Test 0.8536, LR 0.0000\n",
      "2023-08-12 21:54:02,262 [INFO] saving network parameters to ./models/single_cell_params_test.pt\n"
     ]
    }
   ],
   "source": [
    "# start logger (to see training across epochs)\n",
    "logger = io.logger_setup()\n",
    "\n",
    "# DEFINE CELLPOSE MODEL (without size model)\n",
    "model = models.CellposeModel(gpu=use_GPU)\n",
    "\n",
    "# set channels\n",
    "channels = [chan, chan2]\n",
    "\n",
    "new_model_path = model.train(train_ds, test_ds, save_path=model_dir, \n",
    "                              n_epochs=batch_size,\n",
    "                              learning_rate=learning_rate, \n",
    "                              weight_decay=weight_decay, \n",
    "                              nimg_per_epoch=5,\n",
    "                              model_name=model_name,\n",
    "                              batch_size=batch_size\n",
    "                              )\n",
    "\n",
    "# diameter of labels in training images\n",
    "diam_labels = model.diam_labels.copy()"
   ]
  },
  {
   "attachments": {},
   "cell_type": "markdown",
   "metadata": {
    "id": "cdH0j8-L6FuB"
   },
   "source": [
    "## Evaluate on test data (optional)\n",
    "\n",
    "If you have test data, check performance"
   ]
  },
  {
   "cell_type": "code",
   "execution_count": 6,
   "metadata": {
    "colab": {
     "base_uri": "https://localhost:8080/"
    },
    "id": "_0AGsH5p6K6S",
    "outputId": "3f67063a-2197-4ec2-8619-0b52c98fd0ee"
   },
   "outputs": [
    {
     "ename": "TypeError",
     "evalue": "unsupported operand type(s) for +: 'NoneType' and 'str'",
     "output_type": "error",
     "traceback": [
      "\u001b[0;31m---------------------------------------------------------------------------\u001b[0m",
      "\u001b[0;31mTypeError\u001b[0m                                 Traceback (most recent call last)",
      "Cell \u001b[0;32mIn[6], line 2\u001b[0m\n\u001b[1;32m      1\u001b[0m \u001b[39m# get files (during training, test_data is transformed so we will load it again)\u001b[39;00m\n\u001b[0;32m----> 2\u001b[0m output \u001b[39m=\u001b[39m io\u001b[39m.\u001b[39;49mload_train_test_data(test_dir, mask_filter\u001b[39m=\u001b[39;49m\u001b[39m'\u001b[39;49m\u001b[39m_seg.npy\u001b[39;49m\u001b[39m'\u001b[39;49m)\n\u001b[1;32m      3\u001b[0m test_data, test_labels \u001b[39m=\u001b[39m output[:\u001b[39m2\u001b[39m]\n\u001b[1;32m      5\u001b[0m \u001b[39m# run model on test images\u001b[39;00m\n",
      "File \u001b[0;32m/media/balint/st3/projects/nanobio/cellpose/cellpose/io.py:281\u001b[0m, in \u001b[0;36mload_train_test_data\u001b[0;34m(train_dir, test_dir, image_filter, mask_filter, unet, look_one_level_down)\u001b[0m\n\u001b[1;32m    280\u001b[0m \u001b[39mdef\u001b[39;00m \u001b[39mload_train_test_data\u001b[39m(train_dir, test_dir\u001b[39m=\u001b[39m\u001b[39mNone\u001b[39;00m, image_filter\u001b[39m=\u001b[39m\u001b[39mNone\u001b[39;00m, mask_filter\u001b[39m=\u001b[39m\u001b[39m'\u001b[39m\u001b[39m_masks\u001b[39m\u001b[39m'\u001b[39m, unet\u001b[39m=\u001b[39m\u001b[39mFalse\u001b[39;00m, look_one_level_down\u001b[39m=\u001b[39m\u001b[39mFalse\u001b[39;00m):\n\u001b[0;32m--> 281\u001b[0m     images, labels, image_names \u001b[39m=\u001b[39m load_images_labels(train_dir, mask_filter, image_filter, look_one_level_down, unet)\n\u001b[1;32m    283\u001b[0m     \u001b[39m# testing data\u001b[39;00m\n\u001b[1;32m    284\u001b[0m     test_images, test_labels, test_image_names \u001b[39m=\u001b[39m \u001b[39mNone\u001b[39;00m, \u001b[39mNone\u001b[39;00m, \u001b[39mNone\u001b[39;00m\n",
      "File \u001b[0;32m/media/balint/st3/projects/nanobio/cellpose/cellpose/io.py:251\u001b[0m, in \u001b[0;36mload_images_labels\u001b[0;34m(tdir, mask_filter, image_filter, look_one_level_down, unet)\u001b[0m\n\u001b[1;32m    250\u001b[0m \u001b[39mdef\u001b[39;00m \u001b[39mload_images_labels\u001b[39m(tdir, mask_filter\u001b[39m=\u001b[39m\u001b[39m'\u001b[39m\u001b[39m_masks\u001b[39m\u001b[39m'\u001b[39m, image_filter\u001b[39m=\u001b[39m\u001b[39mNone\u001b[39;00m, look_one_level_down\u001b[39m=\u001b[39m\u001b[39mFalse\u001b[39;00m, unet\u001b[39m=\u001b[39m\u001b[39mFalse\u001b[39;00m):\n\u001b[0;32m--> 251\u001b[0m     image_names \u001b[39m=\u001b[39m get_image_files(tdir, mask_filter, image_filter, look_one_level_down)\n\u001b[1;32m    252\u001b[0m     nimg \u001b[39m=\u001b[39m \u001b[39mlen\u001b[39m(image_names)\n\u001b[1;32m    254\u001b[0m     \u001b[39m# training data\u001b[39;00m\n",
      "File \u001b[0;32m/media/balint/st3/projects/nanobio/cellpose/cellpose/io.py:176\u001b[0m, in \u001b[0;36mget_image_files\u001b[0;34m(folder, mask_filter, imf, look_one_level_down)\u001b[0m\n\u001b[1;32m    174\u001b[0m al \u001b[39m=\u001b[39m \u001b[39m0\u001b[39m\n\u001b[1;32m    175\u001b[0m \u001b[39mfor\u001b[39;00m folder \u001b[39min\u001b[39;00m folders:\n\u001b[0;32m--> 176\u001b[0m     all_files \u001b[39m=\u001b[39m glob\u001b[39m.\u001b[39mglob(folder \u001b[39m+\u001b[39;49m \u001b[39m'\u001b[39;49m\u001b[39m/*\u001b[39;49m\u001b[39m'\u001b[39;49m)\n\u001b[1;32m    177\u001b[0m     al \u001b[39m+\u001b[39m\u001b[39m=\u001b[39m \u001b[39mlen\u001b[39m(all_files)\n\u001b[1;32m    178\u001b[0m     \u001b[39mfor\u001b[39;00m ext \u001b[39min\u001b[39;00m exts:\n",
      "\u001b[0;31mTypeError\u001b[0m: unsupported operand type(s) for +: 'NoneType' and 'str'"
     ]
    }
   ],
   "source": [
    "# get files (during training, test_data is transformed so we will load it again)\n",
    "output = io.load_train_test_data(test_dir, mask_filter='_seg.npy')\n",
    "test_data, test_labels = output[:2]\n",
    "\n",
    "# run model on test images\n",
    "masks = model.eval(test_data, \n",
    "                   channels=[chan, chan2],\n",
    "                   diameter=diam_labels)[0]\n",
    "\n",
    "# check performance using ground truth labels\n",
    "ap = metrics.average_precision(test_labels, masks)[0]\n",
    "print('')\n",
    "print(f'>>> average precision at iou threshold 0.5 = {ap[:,0].mean():.3f}')\n"
   ]
  },
  {
   "attachments": {},
   "cell_type": "markdown",
   "metadata": {
    "id": "K8tZ8uYR-IFW"
   },
   "source": [
    "plot masks"
   ]
  },
  {
   "cell_type": "code",
   "execution_count": null,
   "metadata": {
    "colab": {
     "base_uri": "https://localhost:8080/",
     "height": 1000
    },
    "id": "Z2ac5gtr-HPq",
    "outputId": "65c96437-85e4-42cf-8d4b-414b6ba98c0a"
   },
   "outputs": [],
   "source": [
    "\n",
    "plt.figure(figsize=(12,8), dpi=150)\n",
    "for k,im in enumerate(test_data):\n",
    "    img = im.copy()\n",
    "    plt.subplot(3,len(train_files), k+1)\n",
    "    img = np.vstack((img, np.zeros_like(img)[:1]))\n",
    "    img = img.transpose(1,2,0)\n",
    "    plt.imshow(img)\n",
    "    plt.axis('off')\n",
    "    if k==0:\n",
    "        plt.title('image')\n",
    "\n",
    "    plt.subplot(3,len(train_files), len(train_files) + k+1)\n",
    "    plt.imshow(masks[k])\n",
    "    plt.axis('off')\n",
    "    if k==0:\n",
    "        plt.title('predicted labels')\n",
    "\n",
    "    plt.subplot(3,len(train_files), 2*len(train_files) + k+1)\n",
    "    plt.imshow(test_labels[k])\n",
    "    plt.axis('off')\n",
    "    if k==0:\n",
    "        plt.title('true labels')\n",
    "plt.tight_layout()"
   ]
  }
 ],
 "metadata": {
  "accelerator": "GPU",
  "colab": {
   "include_colab_link": true,
   "provenance": []
  },
  "gpuClass": "standard",
  "kernelspec": {
   "display_name": "Python 3 (ipykernel)",
   "language": "python",
   "name": "python3"
  },
  "language_info": {
   "codemirror_mode": {
    "name": "ipython",
    "version": 3
   },
   "file_extension": ".py",
   "mimetype": "text/x-python",
   "name": "python",
   "nbconvert_exporter": "python",
   "pygments_lexer": "ipython3",
   "version": "3.8.15"
  }
 },
 "nbformat": 4,
 "nbformat_minor": 1
}
