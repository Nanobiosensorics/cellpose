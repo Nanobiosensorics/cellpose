{
 "cells": [
  {
   "cell_type": "code",
   "execution_count": 1,
   "metadata": {
    "colab": {
     "base_uri": "https://localhost:8080/"
    },
    "id": "Tt8hgC7rniP8",
    "outputId": "677fa3d0-952f-4490-f5bb-4ef1ad0b0469"
   },
   "outputs": [
    {
     "name": "stdout",
     "output_type": "stream",
     "text": [
      ">>> GPU activated? YES\n"
     ]
    }
   ],
   "source": [
    "# !nvcc --version\n",
    "# !nvidia-smi\n",
    "\n",
    "import os, shutil\n",
    "import numpy as np\n",
    "import matplotlib.pyplot as plt\n",
    "from cellpose import core, utils, io, models, metrics\n",
    "from data_loader import CellDataset, split_dataset\n",
    "from cellpose import models\n",
    "\n",
    "use_GPU = core.use_gpu()\n",
    "yn = ['NO', 'YES']\n",
    "print(f'>>> GPU activated? {yn[use_GPU]}')"
   ]
  },
  {
   "cell_type": "code",
   "execution_count": 2,
   "metadata": {},
   "outputs": [],
   "source": [
    "import os\n",
    "import pandas as pd\n",
    "import numpy as np\n",
    "import re\n",
    "import random\n",
    "\n",
    "def get_image_ids(path):\n",
    "    pattern = r'^(\\d+[_-]\\d+(?:[_-]\\d+)?)'\n",
    "    if os.path.isdir(path):\n",
    "        ids = []\n",
    "        for filename in os.listdir(path):\n",
    "            match = re.match(pattern, filename)\n",
    "            if match is not None:\n",
    "                ids.append(match.group(1))\n",
    "        ids = sorted(list(set(ids)))\n",
    "    else:\n",
    "        split = path.split(os.sep)\n",
    "        if len(split) <= 1:\n",
    "            split = path.split('/')\n",
    "        parts, name = split[:-1], split[-1]\n",
    "        name = re.match(pattern, name)\n",
    "        if name is None:\n",
    "            raise Exception('Experiment id not found in filename!')\n",
    "        ids = [name.group(1)]\n",
    "        path = os.path.join(*parts)\n",
    "        if os.sep == '/':\n",
    "            path = '/' + path\n",
    "    return path, ids\n",
    "\n",
    "def get_tif(path, idx):\n",
    "    files = [name for name in os.listdir(path) if name.endswith('5.tif') and idx in name]\n",
    "    return None if len(files) == 0 else files[0]\n",
    "\n",
    "def get_smlm_file(path, idx):\n",
    "    files = [name for name in os.listdir(path) if name.endswith('.txt') and idx in name]\n",
    "    return None if len(files) == 0 else files[0]\n",
    "\n",
    "def get_smlm_aligned_file(path, idx):\n",
    "    files = [name for name in os.listdir(path) if idx in name and 'ClusterData' in name]\n",
    "    return None if len(files) == 0 else files[0]\n",
    "\n",
    "def get_srrf_file(path, idx):\n",
    "    files = [name for name in os.listdir(path) if idx in name and 'segmResultsPRED' in name]\n",
    "    return None if len(files) == 0 else files[0]\n",
    "\n",
    "def get_seg_file(path, idx):\n",
    "    files = [name for name in os.listdir(path) if idx in name and 'seg.npy' in name]\n",
    "    return None if len(files) == 0 else files[0]\n",
    "\n",
    "def get_raw_srrf_file(path, idx):\n",
    "    files = [name for name in os.listdir(path) if idx in name and name.endswith('.ome.tif')]\n",
    "    return None if len(files) == 0 else files[0]\n",
    "\n",
    "def get_sample(path, idx):\n",
    "    if os.path.isfile(path):\n",
    "        path = os.path.join(*path.split('/')[:-1])\n",
    "    return { \n",
    "            'img' : os.path.join(path, f) if (f := get_tif(path, idx)) is not None else None, \n",
    "            'smlm': os.path.join(path, f) if (f := get_smlm_file(path, idx)) is not None else None, \n",
    "            'smlm_aligned': os.path.join(path, f) if (f := get_smlm_aligned_file(path, idx)) is not None else None, \n",
    "            'srrf': os.path.join(path, f) if (f := get_srrf_file(path, idx)) is not None else None,\n",
    "            'raw-srrf': os.path.join(path, f) if (f := get_raw_srrf_file(path, idx)) is not None else None,\n",
    "            'seg': os.path.join(path, f) if (f := get_seg_file(path, idx)) is not None else None\n",
    "            }"
   ]
  },
  {
   "cell_type": "code",
   "execution_count": 27,
   "metadata": {},
   "outputs": [],
   "source": [
    "data_path = '/home/balint/projects/nc_data/240229-SRRF-SMLM-data-WF-and-TIRF-imaging/1.1.1-STORM-PooledPlasma-ch640/'\n",
    "\n",
    "initial_model = \"cyto3\" #@param ['cyto','nuclei','tissuenet','livecell','cyto2','CP','CPx','TN1','TN2','TN3','LC1','LC2','LC3','LC4','scratch']\n",
    "model_dir = os.path.join(data_path, 'results')\n",
    "model_name = \"ev_segment.pt\" #@param {type:\"string\"}\n",
    "n_epochs =  1000 #@param {type:\"number\"}\n",
    "learning_rate = 0.001 \n",
    "weight_decay = 0.0001\n",
    "batch_size = 8\n",
    "chan = 0\n",
    "chan2 = 0\n",
    "\n",
    "data_path, ids = get_image_ids(data_path)"
   ]
  },
  {
   "cell_type": "code",
   "execution_count": 28,
   "metadata": {},
   "outputs": [],
   "source": [
    "paths = []\n",
    "\n",
    "for idx in ids:\n",
    "    sample = get_sample(data_path, idx)\n",
    "    paths.append(sample['img'])"
   ]
  },
  {
   "cell_type": "code",
   "execution_count": 29,
   "metadata": {},
   "outputs": [],
   "source": [
    "val_percent = 0.2\n",
    "\n",
    "random.shuffle(paths)\n",
    "\n",
    "n_val = int(len(paths) * val_percent)\n",
    "n_train = len(paths) - n_val\n",
    "train_paths, test_paths = paths[:n_train], paths[n_train:]"
   ]
  },
  {
   "cell_type": "code",
   "execution_count": 30,
   "metadata": {},
   "outputs": [],
   "source": [
    "# train_paths, test_paths = split_dataset(paths, 0.2)\n",
    "train_ds = CellDataset(paths=train_paths, generate_flows=True, mask_filter='_cp_masks')\n",
    "test_ds = CellDataset(paths=test_paths, generate_flows=True, mask_filter='_cp_masks')"
   ]
  },
  {
   "cell_type": "code",
   "execution_count": 31,
   "metadata": {},
   "outputs": [
    {
     "name": "stdout",
     "output_type": "stream",
     "text": [
      "2024-06-05 23:35:54,006 [INFO] WRITING LOG OUTPUT TO /home/balint/.cellpose/run.log\n",
      "2024-06-05 23:35:54,007 [INFO] \n",
      "cellpose version: \t2.2.3 \n",
      "platform:       \tlinux \n",
      "python version: \t3.8.5 \n",
      "torch version:  \t2.1.0+cu121\n",
      "2024-06-05 23:35:54,007 [INFO] >> cyto3 << model set to be used\n",
      "2024-06-05 23:35:54,026 [INFO] ** TORCH CUDA version installed and working. **\n",
      "2024-06-05 23:35:54,026 [INFO] >>>> using GPU\n",
      "2024-06-05 23:35:54,080 [INFO] >>>> model diam_mean =  30.000 (ROIs rescaled to this size during training)\n",
      "2024-06-05 23:35:54,081 [INFO] >>>> model diam_labels =  30.000 (mean diameter of training ROIs)\n"
     ]
    }
   ],
   "source": [
    "# start logger (to see training across epochs)\n",
    "logger = io.logger_setup()\n",
    "\n",
    "# DEFINE CELLPOSE MODEL (without size model)\n",
    "model = models.CellposeModel(gpu=use_GPU, model_type=initial_model)\n",
    "\n",
    "# set channels\n",
    "channels = [chan, chan2]\n",
    "\n",
    "new_model_path = model.train(train_ds, test_dataset=test_ds,\n",
    "                             save_path=model_dir, \n",
    "                              n_epochs=n_epochs,\n",
    "                              learning_rate=learning_rate, \n",
    "                              weight_decay=weight_decay, \n",
    "                              nimg_per_epoch=5,\n",
    "                              model_name=model_name,\n",
    "                              batch_size=batch_size,\n",
    "                              patience=100,\n",
    "                              )\n",
    "\n",
    "# diameter of labels in training images\n",
    "diam_labels = model.diam_labels.copy()"
   ]
  },
  {
   "cell_type": "code",
   "execution_count": null,
   "metadata": {},
   "outputs": [],
   "source": []
  }
 ],
 "metadata": {
  "accelerator": "GPU",
  "colab": {
   "include_colab_link": true,
   "provenance": []
  },
  "gpuClass": "standard",
  "kernelspec": {
   "display_name": "Python 3 (ipykernel)",
   "language": "python",
   "name": "python3"
  },
  "language_info": {
   "codemirror_mode": {
    "name": "ipython",
    "version": 3
   },
   "file_extension": ".py",
   "mimetype": "text/x-python",
   "name": "python",
   "nbconvert_exporter": "python",
   "pygments_lexer": "ipython3",
   "version": "3.8.5"
  }
 },
 "nbformat": 4,
 "nbformat_minor": 1
}
