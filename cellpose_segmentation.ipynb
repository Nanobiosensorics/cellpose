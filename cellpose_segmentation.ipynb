{
  "cells": [
    {
      "cell_type": "code",
      "execution_count": null,
      "metadata": {
        "colab": {
          "base_uri": "https://localhost:8080/"
        },
        "id": "Tt8hgC7rniP8",
        "outputId": "8243caca-a42b-47e1-809a-9fd56ec6f759"
      },
      "outputs": [],
      "source": [
        "import os, shutil\n",
        "import numpy as np\n",
        "import matplotlib.pyplot as plt\n",
        "from cellpose import core, utils, io, models, metrics\n",
        "from glob import glob\n",
        "from tqdm import tqdm\n",
        "from IPython.display import clear_output\n",
        "from cellpose import plot\n",
        "from cellpose import io, utils\n",
        "import matplotlib\n",
        "matplotlib.use('Agg')\n",
        "import matplotlib.pyplot as plt\n",
        "\n",
        "use_GPU = core.use_gpu()\n",
        "yn = ['NO', 'YES']\n",
        "print(f'>>> GPU activated? {yn[use_GPU]}')"
      ]
    },
    {
      "cell_type": "code",
      "execution_count": null,
      "metadata": {
        "id": "jxfldgSfgJXF"
      },
      "outputs": [],
      "source": [
        "def eval(eval_dir, channels, diameter, flow_threshold, cellprob_threshold,\n",
        "         save_segmentation, save_roi_counts, save_plots, count=0):\n",
        "    if len(os.listdir(eval_dir)) == 0:\n",
        "        return\n",
        "\n",
        "    files = [os.path.join(eval_dir, f) for f in os.listdir(eval_dir) if f.endswith('_clip.tiff')]\n",
        "    if save_roi_counts or save_plots:\n",
        "        result_folder = os.path.join(*files[0].split('/')[:-1], 'results')\n",
        "        if not os.path.exists(result_folder):\n",
        "            os.makedirs(result_folder)\n",
        "    \n",
        "    for n, f in enumerate(tqdm(files, desc='Segmentation')):\n",
        "        # gets image files in dir (ignoring image files ending in _masks)\n",
        "        images = [io.imread(f)]\n",
        "\n",
        "\n",
        "        # declare model\n",
        "        model = models.CellposeModel(gpu=True, model_type='cyto3')\n",
        "\n",
        "        # use model diameter if user diameter is 0\n",
        "        diameter = model.diam_labels if diameter==0 else diameter\n",
        "\n",
        "        # run model on test images\n",
        "        masks, flows, styles = model.eval(images,\n",
        "                                        channels=channels,\n",
        "                                        diameter=diameter,\n",
        "                                        flow_threshold=flow_threshold,\n",
        "                                        cellprob_threshold=cellprob_threshold\n",
        "                                        )\n",
        "        if save_segmentation:\n",
        "            # outlines = masks[0] * utils.masks_to_outlines(masks[0])\n",
        "            # np.save(f[:-4] + '_seg.npy', {'outlines': outlines.astype(np.uint16) if outlines.max()<2**16-1 else outlines.astype(np.uint32),\n",
        "            #                 'masks': masks[0].astype(np.uint16) if outlines.max()<2**16-1 else masks[0].astype(np.uint32)})\n",
        "            io.masks_flows_to_seg(images, \n",
        "                      masks, \n",
        "                      flows, \n",
        "                      [f], \n",
        "                      diameter*np.ones(len(masks)), \n",
        "                      channels)\n",
        "            \n",
        "        if save_roi_counts:\n",
        "            file_name = f.split('/')[-1]\n",
        "            result_path = os.path.join(result_folder, file_name)\n",
        "            save_path = os.path.splitext(result_path)[0] + '_roi_counts.txt'\n",
        "            with open(save_path, 'w') as fp:\n",
        "                fp.write('%d' % int(np.max(masks[0])))\n",
        "        if save_plots:\n",
        "            file_name = f.split('/')[-1]\n",
        "            result_path = os.path.join(result_folder, file_name)\n",
        "            show_segmentation(images[0], masks[0], channels=channels, file_name=result_path)\n",
        "        if count != 0 and n + 1 >= count:\n",
        "            return\n",
        "\n",
        "# def run_eval(only_subfolders=False, count=0):\n",
        "#     if not only_subfolders:\n",
        "#         eval(dir, [chan, chan2], diameter, flow_threshold,\n",
        "#             cellprob_threshold, save_segmentation, save_roi_counts, save_plots, count)\n",
        "#     for o in os.listdir(dir):\n",
        "#         if os.path.isdir(os.path.join(dir, o)) and o != 'results':\n",
        "#             eval(os.path.join(dir, o), [chan, chan2], diameter, flow_threshold,\n",
        "#                 cellprob_threshold, save_segmentation, save_roi_counts, save_plots)\n",
        "\n",
        "def show_segmentation(img, maski, channels=[0,0], file_name=None):\n",
        "    fig = plt.figure(figsize=(8,3))\n",
        "    img0 = img.copy()\n",
        "\n",
        "    if img0.shape[0] < 4:\n",
        "        img0 = np.transpose(img0, (1,2,0))\n",
        "    if img0.shape[-1] < 3 or img0.ndim < 3:\n",
        "        img0 = plot.image_to_rgb(img0, channels=channels)\n",
        "    else:\n",
        "        if img0.max()<=50.0:\n",
        "            img0 = np.uint8(np.clip(img0*255, 0, 1))\n",
        "\n",
        "    overlay = plot.mask_overlay(img0, maski)\n",
        "\n",
        "    ax = fig.add_subplot(1,1,1)\n",
        "    ax.imshow(overlay)\n",
        "    ax.set_title('predicted masks')\n",
        "    ax.axis('off')\n",
        "\n",
        "    if file_name is not None:\n",
        "        save_path = os.path.splitext(file_name)[0]\n",
        "        io.imsave(save_path + '_overlay.jpg', overlay)\n",
        "    plt.close()\n"
      ]
    },
    {
      "cell_type": "code",
      "execution_count": null,
      "metadata": {
        "id": "vDu4Ixjo588O"
      },
      "outputs": [],
      "source": [
        "channels = [0, 0]\n",
        "diameter = 0\n",
        "flow_threshold = 0.5\n",
        "cellprob_threshold=0\n",
        "save_segmentation = True\n",
        "save_roi_counts = False\n",
        "save_plots = False"
      ]
    },
    {
      "cell_type": "code",
      "execution_count": null,
      "metadata": {
        "id": "rF3Y1onVAz9T"
      },
      "outputs": [],
      "source": [
        "remote_path = \"../data/Balint/STORM PooledPlasma - ch640/\""
      ]
    },
    {
      "cell_type": "code",
      "execution_count": null,
      "metadata": {
        "id": "5vlhTf4fmlm4"
      },
      "outputs": [],
      "source": [
        "eval(remote_path, channels, diameter, flow_threshold, cellprob_threshold, save_segmentation, save_roi_counts, save_plots, count=0)"
      ]
    },
    {
      "cell_type": "code",
      "execution_count": null,
      "metadata": {},
      "outputs": [],
      "source": []
    }
  ],
  "metadata": {
    "accelerator": "GPU",
    "colab": {
      "collapsed_sections": [
        "heEiTSWQZZ6y"
      ],
      "provenance": []
    },
    "gpuClass": "standard",
    "kernelspec": {
      "display_name": "Python 3",
      "language": "python",
      "name": "python3"
    },
    "language_info": {
      "codemirror_mode": {
        "name": "ipython",
        "version": 3
      },
      "file_extension": ".py",
      "mimetype": "text/x-python",
      "name": "python",
      "nbconvert_exporter": "python",
      "pygments_lexer": "ipython3",
      "version": "3.10.13"
    }
  },
  "nbformat": 4,
  "nbformat_minor": 0
}
